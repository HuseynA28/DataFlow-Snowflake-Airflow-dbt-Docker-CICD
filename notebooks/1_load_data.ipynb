{
  "cells": [
    {
      "cell_type": "code",
      "execution_count": 3,
      "metadata": {},
      "outputs": [
        {
          "ename": "ModuleNotFoundError",
          "evalue": "No module named 'snowflake'",
          "output_type": "error",
          "traceback": [
            "\u001b[31m---------------------------------------------------------------------------\u001b[39m",
            "\u001b[31mModuleNotFoundError\u001b[39m                       Traceback (most recent call last)",
            "\u001b[36mCell\u001b[39m\u001b[36m \u001b[39m\u001b[32mIn[3]\u001b[39m\u001b[32m, line 3\u001b[39m\n\u001b[32m      1\u001b[39m \u001b[38;5;28;01mimport\u001b[39;00m\u001b[38;5;250m \u001b[39m\u001b[34;01mjson\u001b[39;00m\n\u001b[32m      2\u001b[39m \u001b[38;5;28;01mimport\u001b[39;00m\u001b[38;5;250m \u001b[39m\u001b[34;01mos\u001b[39;00m\n\u001b[32m----> \u001b[39m\u001b[32m3\u001b[39m \u001b[38;5;28;01mimport\u001b[39;00m\u001b[38;5;250m \u001b[39m\u001b[34;01msnowflake\u001b[39;00m\u001b[34;01m.\u001b[39;00m\u001b[34;01msnowpark\u001b[39;00m\u001b[34;01m.\u001b[39;00m\u001b[34;01mfunctions\u001b[39;00m\u001b[38;5;250m \u001b[39m\u001b[38;5;28;01mas\u001b[39;00m\u001b[38;5;250m \u001b[39m\u001b[34;01mF\u001b[39;00m\n\u001b[32m      4\u001b[39m \u001b[38;5;28;01mfrom\u001b[39;00m\u001b[38;5;250m \u001b[39m\u001b[34;01msnowflake\u001b[39;00m\u001b[34;01m.\u001b[39;00m\u001b[34;01mml\u001b[39;00m\u001b[34;01m.\u001b[39;00m\u001b[34;01mutils\u001b[39;00m\u001b[34;01m.\u001b[39;00m\u001b[34;01mconnection_params\u001b[39;00m\u001b[38;5;250m \u001b[39m\u001b[38;5;28;01mimport\u001b[39;00m SnowflakeLoginOptions\n\u001b[32m      5\u001b[39m \u001b[38;5;28;01mfrom\u001b[39;00m\u001b[38;5;250m \u001b[39m\u001b[34;01msnowflake\u001b[39;00m\u001b[34;01m.\u001b[39;00m\u001b[34;01msnowpark\u001b[39;00m\u001b[38;5;250m \u001b[39m\u001b[38;5;28;01mimport\u001b[39;00m Session\n",
            "\u001b[31mModuleNotFoundError\u001b[39m: No module named 'snowflake'"
          ]
        }
      ],
      "source": [
        "\n",
        "import json\n",
        "import os\n",
        "import snowflake.snowpark.functions as F\n",
        "from snowflake.ml.utils.connection_params import SnowflakeLoginOptions\n",
        "from snowflake.snowpark import Session"
      ]
    },
    {
      "cell_type": "code",
      "execution_count": 1,
      "metadata": {},
      "outputs": [
        {
          "ename": "NameError",
          "evalue": "name 'os' is not defined",
          "output_type": "error",
          "traceback": [
            "\u001b[31m---------------------------------------------------------------------------\u001b[39m",
            "\u001b[31mNameError\u001b[39m                                 Traceback (most recent call last)",
            "\u001b[36mCell\u001b[39m\u001b[36m \u001b[39m\u001b[32mIn[1]\u001b[39m\u001b[32m, line 2\u001b[39m\n\u001b[32m      1\u001b[39m connection_parameters = {\n\u001b[32m----> \u001b[39m\u001b[32m2\u001b[39m     \u001b[33m\"\u001b[39m\u001b[33maccount\u001b[39m\u001b[33m\"\u001b[39m:      \u001b[43mos\u001b[49m.environ[\u001b[33m\"\u001b[39m\u001b[33mSNOWFLAKE_ACCOUNT\u001b[39m\u001b[33m\"\u001b[39m],\n\u001b[32m      3\u001b[39m     \u001b[33m\"\u001b[39m\u001b[33muser\u001b[39m\u001b[33m\"\u001b[39m:         os.environ[\u001b[33m\"\u001b[39m\u001b[33mSNOWFLAKE_USER\u001b[39m\u001b[33m\"\u001b[39m],\n\u001b[32m      4\u001b[39m     \u001b[33m\"\u001b[39m\u001b[33mpassword\u001b[39m\u001b[33m\"\u001b[39m:     os.environ[\u001b[33m\"\u001b[39m\u001b[33mSNOWFLAKE_PASSWORD\u001b[39m\u001b[33m\"\u001b[39m],\n\u001b[32m      5\u001b[39m     \u001b[33m\"\u001b[39m\u001b[33mrole\u001b[39m\u001b[33m\"\u001b[39m:         \u001b[33m\"\u001b[39m\u001b[33mACCOUNTADMIN\u001b[39m\u001b[33m\"\u001b[39m,         \n\u001b[32m      6\u001b[39m     \u001b[33m\"\u001b[39m\u001b[33mwarehouse\u001b[39m\u001b[33m\"\u001b[39m:    \u001b[33m\"\u001b[39m\u001b[33mCOMPUTE_WH\u001b[39m\u001b[33m\"\u001b[39m,               \n\u001b[32m      7\u001b[39m }\n",
            "\u001b[31mNameError\u001b[39m: name 'os' is not defined"
          ]
        }
      ],
      "source": [
        "connection_parameters = {\n",
        "    \"account\":      os.environ[\"SNOWFLAKE_ACCOUNT\"],\n",
        "    \"user\":         os.environ[\"SNOWFLAKE_USER\"],\n",
        "    \"password\":     os.environ[\"SNOWFLAKE_PASSWORD\"],\n",
        "    \"role\":         \"ACCOUNTADMIN\",         \n",
        "    \"warehouse\":    \"COMPUTE_WH\",               \n",
        "}\n"
      ]
    },
    {
      "cell_type": "code",
      "execution_count": null,
      "metadata": {},
      "outputs": [],
      "source": [
        "#session = Session.builder.configs(SnowflakeLoginOptions()).getOrCreate()\n",
        "session = Session.builder.configs(connection_parameters).create()\n"
      ]
    },
    {
      "cell_type": "code",
      "execution_count": null,
      "metadata": {},
      "outputs": [],
      "source": [
        "# session.sql(\"USE ROLE accountadmin;\").collect()\n",
        "session.sql(\"CREATE WAREHOUSE dbt_wh WITH WAREHOUSE_SIZE='X-SMALL';\").collect()\n",
        "session.sql(\"CREATE DATABASE IF NOT EXISTS dbt_db;\").collect()\n",
        "session.sql(\"CREATE ROLE IF NOT EXISTS dbt_role;\").collect()\n",
        "session.sql(\"SHOW GRANTS ON WAREHOUSE dbt_wh;\").collect()\n",
        "session.sql(\"GRANT USAGE ON WAREHOUSE dbt_wh TO ROLE dbt_role;\").collect()\n",
        "session.sql(\"GRANT ALL ON DATABASE dbt_db TO ROLE dbt_role;\").collect()\n",
        "session.sql(\"GRANT ALL PRIVILEGES ON DATABASE dbt_db TO ROLE dbt_role;\").collect()\n",
        "session.sql(\"GRANT ALL PRIVILEGES ON FUTURE SCHEMAS IN DATABASE dbt_db TO ROLE dbt_role;\").collect()\n",
        "session.sql(\"CREATE SCHEMA IF NOT EXISTS dbt_db.dbt_schema;\").collect()\n",
        "session.sql(\"GRANT ALL ON SCHEMA dbt_db.dbt_schema TO ROLE dbt_role;\").collect()\n",
        "session.sql(\"GRANT ALL PRIVILEGES ON FUTURE TABLES IN SCHEMA dbt_db.dbt_schema TO ROLE dbt_role;\").collect()\n",
        "\n",
        "\n",
        "\n"
      ]
    },
    {
      "cell_type": "code",
      "execution_count": null,
      "metadata": {},
      "outputs": [],
      "source": [
        "session.sql(\"CREATE STAGE if not exists ML_DATA\").collect()"
      ]
    },
    {
      "cell_type": "code",
      "execution_count": null,
      "metadata": {},
      "outputs": [],
      "source": [
        "ad = pd.read_csv(\n",
        "    'https://raw.githubusercontent.com/HuseynA28/Snowflake-MLOPS/main/dataset/advertising.csv'\n",
        ")\n",
        "ad.columns = [c.upper() for c in ad.columns]\n",
        "ad.to_csv(\"advertising.csv\", index=False)"
      ]
    },
    {
      "cell_type": "code",
      "execution_count": null,
      "metadata": {},
      "outputs": [],
      "source": [
        "# Create a Snowpark DataFrame that is configured to load data from the CSV file\n",
        "avertising_df = (\n",
        "    session.read.option(\"infer_schema\", True)\n",
        "    .option(\"PARSE_HEADER\", True)\n",
        "    .csv(\"@ml_data/advertising.csv\")\n",
        ")\n",
        "avertising_df.show()"
      ]
    }
  ],
  "metadata": {
    "kernelspec": {
      "display_name": ".venv",
      "language": "python",
      "name": "python3"
    },
    "language_info": {
      "codemirror_mode": {
        "name": "ipython",
        "version": 3
      },
      "file_extension": ".py",
      "mimetype": "text/x-python",
      "name": "python",
      "nbconvert_exporter": "python",
      "pygments_lexer": "ipython3",
      "version": "3.11.2"
    }
  },
  "nbformat": 4,
  "nbformat_minor": 2
}
