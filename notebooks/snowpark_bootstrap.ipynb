{
 "cells": [
  {
   "cell_type": "markdown",
   "id": "fb90dbaa",
   "metadata": {},
   "source": [
    "## Snowflake Data Load Notebook\n",
    "This notebook creates the required Snowflake objects, stages a CSV from GitHub, and loads it into a table – all using **Snowpark for Python**.\n",
    "**Prerequisites**\n",
    "1. The `snowflake-snowpark-python` and `requests` packages are installed (see the next code cell).\n",
    "2. Environment variables with your connection info are set in the kernel/session:\n",
    "   * `SNOWFLAKE_ACCOUNT` –  Go to Account Details in snowflake . It should  look like bewlo \n",
    "   * `SNOWFLAKE_USER` \n",
    "   * `SNOWFLAKE_PASSWORD`\n",
    "\n",
    "[connections.my_example_connection]\n",
    "- account = \"XXXX-XXXXX\"\n",
    "- user = \"HUSEYN\"\n",
    "- role = \"ACCOUNTADMIN\"\n"
   ]
  },
  {
   "cell_type": "code",
   "execution_count": 38,
   "id": "b25218c8",
   "metadata": {},
   "outputs": [],
   "source": [
    "import pathlib\n",
    "import os, pathlib, requests\n",
    "from snowflake.snowpark import Session\n"
   ]
  },
  {
   "cell_type": "code",
   "execution_count": 39,
   "id": "7a5a2b66",
   "metadata": {},
   "outputs": [
    {
     "name": "stdout",
     "output_type": "stream",
     "text": [
      "Working dir: c:\\Users\\ping\\Documents\\Bootcamps\\Data-Analytics-Engineer-Bootcamp\\dataflow\\notebooks\n",
      "Files here: ['netflix_titles.csv', 'snowpark_bootstrap.ipynb']\n"
     ]
    }
   ],
   "source": [
    "\n",
    "print(\"Working dir:\", os.getcwd())\n",
    "print(\"Files here:\", os.listdir())\n"
   ]
  },
  {
   "cell_type": "code",
   "execution_count": 40,
   "id": "7c3901be",
   "metadata": {},
   "outputs": [
    {
     "name": "stdout",
     "output_type": "stream",
     "text": [
      "-------------\n",
      "|\"VERSION\"  |\n",
      "-------------\n",
      "|9.12.1     |\n",
      "-------------\n",
      "\n"
     ]
    }
   ],
   "source": [
    "\n",
    "from dotenv import load_dotenv\n",
    "load_dotenv()\n",
    "\n",
    "connection_parameters = {\n",
    "    \"account\":   os.environ[\"SNOWFLAKE_ACCOUNT\"],\n",
    "    \"user\":      os.environ[\"SNOWFLAKE_USER\"],\n",
    "    \"password\":  os.environ[\"SNOWFLAKE_PASSWORD\"],\n",
    "    \"role\":      \"ACCOUNTADMIN\",  \n",
    "    \"warehouse\": \"COMPUTE_WH\",        \n",
    "}\n",
    "\n",
    "session = Session.builder.configs(connection_parameters).create()\n",
    "session.sql(\"SELECT CURRENT_VERSION() AS VERSION\").show()"
   ]
  },
  {
   "cell_type": "code",
   "execution_count": 41,
   "id": "e84007b4",
   "metadata": {},
   "outputs": [
    {
     "data": {
      "text/plain": [
       "[Row(status='Statement executed successfully.')]"
      ]
     },
     "execution_count": 41,
     "metadata": {},
     "output_type": "execute_result"
    }
   ],
   "source": [
    "\n",
    "session.sql(\"USE ROLE ACCOUNTADMIN\").collect()\n",
    "\n",
    "\n",
    "session.sql(\"DROP ROLE IF EXISTS DBT_ROLE\").collect()\n",
    "session.sql(\"CREATE ROLE IF NOT EXISTS DBT_ROLE\").collect()\n",
    "\n",
    "session.sql(\"GRANT ROLE SYSADMIN TO ROLE DBT_ROLE\").collect()\n",
    "\n",
    "session.sql(\"GRANT ROLE DBT_ROLE TO USER DBT_USER\").collect()\n",
    "\n",
    "session.sql(\"ALTER USER DBT_USER SET DEFAULT_ROLE = DBT_ROLE\").collect()\n",
    "\n"
   ]
  },
  {
   "cell_type": "code",
   "execution_count": 42,
   "id": "f1153da9",
   "metadata": {},
   "outputs": [],
   "source": [
    "\n",
    "def run_many(sql: str):\n",
    "    for stmt in [s.strip() for s in sql.split(\";\") if s.strip()]:\n",
    "        session.sql(stmt).collect()"
   ]
  },
  {
   "cell_type": "code",
   "execution_count": 43,
   "id": "abd1b760",
   "metadata": {},
   "outputs": [
    {
     "name": "stdout",
     "output_type": "stream",
     "text": [
      "Bootstrap complete.\n"
     ]
    }
   ],
   "source": [
    "\n",
    "run_many('''\n",
    "CREATE OR REPLACE WAREHOUSE DBT_WH WAREHOUSE_SIZE = \"XSMALL\";\n",
    "\n",
    "CREATE DATABASE IF NOT EXISTS DBT_DB;\n",
    "CREATE SCHEMA   IF NOT EXISTS DBT_DB.DBT_SCHEMA;\n",
    "         \n",
    "\n",
    "\n",
    "CREATE DATABASE IF NOT EXISTS DBT_TARGET_DB;\n",
    "CREATE SCHEMA   IF NOT EXISTS DBT_TARGET_DB.DBT_TARHET_SCHEMA;\n",
    "\n",
    "\n",
    "         \n",
    "\n",
    "\n",
    "GRANT USAGE          ON WAREHOUSE DBT_WH            TO ROLE DBT_ROLE;\n",
    "         \n",
    "GRANT ALL PRIVILEGES ON DATABASE  DBT_DB            TO ROLE DBT_ROLE;\n",
    "GRANT ALL PRIVILEGES ON DATABASE  DBT_TARGET_DB            TO ROLE DBT_ROLE;\n",
    "         \n",
    "\n",
    "\n",
    "GRANT ALL PRIVILEGES ON SCHEMA    DBT_DB.DBT_SCHEMA TO ROLE DBT_ROLE;\n",
    "GRANT ALL PRIVILEGES ON SCHEMA    DBT_TARGET_DB.DBT_TARHET_SCHEMA TO ROLE DBT_ROLE;\n",
    "\n",
    "CREATE USER IF NOT EXISTS DBT_USER\n",
    "  PASSWORD            = 'StrongPassword12345' \n",
    "  DEFAULT_ROLE        = DBT_ROLE\n",
    "  DEFAULT_WAREHOUSE   = DBT_WH\n",
    "  MUST_CHANGE_PASSWORD = FALSE;\n",
    "    \n",
    "         \n",
    "GRANT ROLE DBT_ROLE TO USER DBT_USER;\n",
    "\n",
    "''')\n",
    "print(\"Bootstrap complete.\")"
   ]
  },
  {
   "cell_type": "code",
   "execution_count": 44,
   "id": "33313552",
   "metadata": {},
   "outputs": [],
   "source": [
    "\n",
    "run_many(\"CREATE OR REPLACE STAGE DBT_DB.DBT_SCHEMA.NETFLIX_RAW_STAGE;\")"
   ]
  },
  {
   "cell_type": "code",
   "execution_count": 45,
   "id": "e4d81729",
   "metadata": {},
   "outputs": [
    {
     "data": {
      "text/plain": [
       "3399671"
      ]
     },
     "execution_count": 45,
     "metadata": {},
     "output_type": "execute_result"
    }
   ],
   "source": [
    "\n",
    "csv_url   = \"https://raw.githubusercontent.com/HuseynA28/DataFlow-Snowflake-Airflow-dbt-Docker-CICD-/refs/heads/main/data/netflix_titles.csv\"\n",
    "local_csv = pathlib.Path(\"netflix_titles.csv\")\n",
    "local_csv.write_bytes(requests.get(csv_url, timeout=30).content)\n"
   ]
  },
  {
   "cell_type": "code",
   "execution_count": 46,
   "id": "ed58e67b",
   "metadata": {},
   "outputs": [
    {
     "name": "stdout",
     "output_type": "stream",
     "text": [
      "File uploaded to stage.\n"
     ]
    }
   ],
   "source": [
    "\n",
    "session.file.put(\n",
    "    str(local_csv),                               \n",
    "    \"@DBT_DB.DBT_SCHEMA.NETFLIX_RAW_STAGE\",       \n",
    "    overwrite=True,\n",
    ")\n",
    "\n",
    "print(\"File uploaded to stage.\")"
   ]
  },
  {
   "cell_type": "code",
   "execution_count": 47,
   "id": "a7277ff0",
   "metadata": {},
   "outputs": [
    {
     "data": {
      "text/plain": [
       "<snowflake.snowpark.dataframe.DataFrame at 0x1f5d5038b10>"
      ]
     },
     "execution_count": 47,
     "metadata": {},
     "output_type": "execute_result"
    }
   ],
   "source": [
    "session.sql(''' USE ROLE DBT_ROLE ''')"
   ]
  },
  {
   "cell_type": "code",
   "execution_count": 48,
   "id": "6ac518c0",
   "metadata": {},
   "outputs": [
    {
     "data": {
      "text/plain": [
       "[Row(status='File format CSV_NETFLIX_RAW successfully created.')]"
      ]
     },
     "execution_count": 48,
     "metadata": {},
     "output_type": "execute_result"
    }
   ],
   "source": [
    "session.sql(\n",
    "  '''CREATE OR REPLACE FILE FORMAT DBT_DB.DBT_SCHEMA.CSV_NETFLIX_RAW\n",
    "  TYPE                       = 'CSV'\n",
    "  COMPRESSION                = 'AUTO'               \n",
    "  FIELD_DELIMITER            = ','                  \n",
    "  FIELD_OPTIONALLY_ENCLOSED_BY = '\"'              \n",
    "  PARSE_HEADER = TRUE; ''').collect()\n"
   ]
  },
  {
   "cell_type": "code",
   "execution_count": 49,
   "id": "60cabfef",
   "metadata": {},
   "outputs": [
    {
     "data": {
      "text/plain": [
       "[Row(status='Statement executed successfully.')]"
      ]
     },
     "execution_count": 49,
     "metadata": {},
     "output_type": "execute_result"
    }
   ],
   "source": [
    "session.sql('''USE database  DBT_DB ''').collect()\n",
    "session.sql('''USE schema  DBT_SCHEMA ''').collect()\n"
   ]
  },
  {
   "cell_type": "code",
   "execution_count": 50,
   "id": "35738918",
   "metadata": {},
   "outputs": [
    {
     "data": {
      "text/plain": [
       "[Row(status='Table NETFLIX_DATA successfully created.')]"
      ]
     },
     "execution_count": 50,
     "metadata": {},
     "output_type": "execute_result"
    }
   ],
   "source": [
    "session.sql(''' \n",
    "       \n",
    "CREATE OR REPLACE TABLE  NETFLIX_DATA\n",
    "  USING TEMPLATE (\n",
    "    SELECT ARRAY_AGG(OBJECT_CONSTRUCT(*))\n",
    "      FROM TABLE(\n",
    "        INFER_SCHEMA(\n",
    "          LOCATION=>'@DBT_DB.DBT_SCHEMA.NETFLIX_RAW_STAGE',\n",
    "          FILE_FORMAT=>'CSV_NETFLIX_RAW'\n",
    "        )\n",
    "      ))''').collect()\n",
    "\n",
    "\n"
   ]
  },
  {
   "cell_type": "code",
   "execution_count": 51,
   "id": "4babb817",
   "metadata": {},
   "outputs": [
    {
     "data": {
      "text/plain": [
       "[Row(status='File format CSV_FF successfully created.')]"
      ]
     },
     "execution_count": 51,
     "metadata": {},
     "output_type": "execute_result"
    }
   ],
   "source": [
    "session.sql(''' \n",
    "\n",
    "\n",
    "CREATE OR REPLACE FILE FORMAT DBT_DB.DBT_SCHEMA.csv_ff\n",
    "  TYPE  = CSV\n",
    "  FIELD_DELIMITER = ','\n",
    "  FIELD_OPTIONALLY_ENCLOSED_BY = '\"'\n",
    "  SKIP_HEADER = 1; \n",
    "\n",
    "\n",
    "   ''' ).collect()"
   ]
  },
  {
   "cell_type": "code",
   "execution_count": 52,
   "id": "96f29ac2",
   "metadata": {},
   "outputs": [
    {
     "data": {
      "text/plain": [
       "[Row(file='netflix_raw_stage/netflix_titles.csv.gz', status='LOADED', rows_parsed=8807, rows_loaded=8807, error_limit=1, errors_seen=0, first_error=None, first_error_line=None, first_error_character=None, first_error_column_name=None)]"
      ]
     },
     "execution_count": 52,
     "metadata": {},
     "output_type": "execute_result"
    }
   ],
   "source": [
    "session.sql(\n",
    "    ''' \n",
    "  COPY INTO NETFLIX_DATA FROM @DBT_DB.DBT_SCHEMA.NETFLIX_RAW_STAGE\n",
    "  FILE_FORMAT = (\n",
    "    FORMAT_NAME= 'csv_ff'\n",
    "  )\n",
    "            \n",
    "  ''').collect()"
   ]
  }
 ],
 "metadata": {
  "kernelspec": {
   "display_name": ".venv",
   "language": "python",
   "name": "python3"
  },
  "language_info": {
   "codemirror_mode": {
    "name": "ipython",
    "version": 3
   },
   "file_extension": ".py",
   "mimetype": "text/x-python",
   "name": "python",
   "nbconvert_exporter": "python",
   "pygments_lexer": "ipython3",
   "version": "3.11.2"
  }
 },
 "nbformat": 4,
 "nbformat_minor": 5
}
