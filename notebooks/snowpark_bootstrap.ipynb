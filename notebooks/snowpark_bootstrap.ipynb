{
 "cells": [
  {
   "cell_type": "markdown",
   "id": "fb90dbaa",
   "metadata": {},
   "source": [
    "## Snowflake Data Load Notebook\n",
    "This notebook creates the required Snowflake objects, stages a CSV from GitHub, and loads it into a table – all using **Snowpark for Python**.\n",
    "**Prerequisites**\n",
    "1. The `snowflake-snowpark-python` and `requests` packages are installed (see the next code cell).\n",
    "2. Environment variables with your connection info are set in the kernel/session:\n",
    "   * `SNOWFLAKE_ACCOUNT` –  Go to Account Details in snowflake . It should  look like bewlo \n",
    "   * `SNOWFLAKE_USER` \n",
    "   * `SNOWFLAKE_PASSWORD`\n",
    "\n",
    "[connections.my_example_connection]\n",
    "- account = \"XXXX-XXXXX\"\n",
    "- user = \"HUSEYN\"\n",
    "- role = \"ACCOUNTADMIN\"\n"
   ]
  },
  {
   "cell_type": "code",
   "execution_count": 244,
   "id": "b25218c8",
   "metadata": {},
   "outputs": [],
   "source": [
    "import pathlib\n",
    "import os, pathlib, requests\n",
    "from snowflake.snowpark import Session\n"
   ]
  },
  {
   "cell_type": "code",
   "execution_count": 245,
   "id": "7a5a2b66",
   "metadata": {},
   "outputs": [
    {
     "name": "stdout",
     "output_type": "stream",
     "text": [
      "Working dir: c:\\Users\\ping\\Documents\\Bootcamps\\Data-Analytics-Engineer-Bootcamp\\dataflow\\notebooks\n",
      "Files here: ['netflix_titles.csv', 'snowpark_bootstrap.ipynb']\n"
     ]
    }
   ],
   "source": [
    "\n",
    "print(\"Working dir:\", os.getcwd())\n",
    "print(\"Files here:\", os.listdir())\n"
   ]
  },
  {
   "cell_type": "code",
   "execution_count": 246,
   "id": "7c3901be",
   "metadata": {},
   "outputs": [
    {
     "name": "stdout",
     "output_type": "stream",
     "text": [
      "-------------\n",
      "|\"VERSION\"  |\n",
      "-------------\n",
      "|9.12.1     |\n",
      "-------------\n",
      "\n"
     ]
    }
   ],
   "source": [
    "\n",
    "from dotenv import load_dotenv\n",
    "load_dotenv()\n",
    "\n",
    "connection_parameters = {\n",
    "    \"account\":   os.environ[\"SNOWFLAKE_ACCOUNT\"],\n",
    "    \"user\":      os.environ[\"SNOWFLAKE_USER\"],\n",
    "    \"password\":  os.environ[\"SNOWFLAKE_PASSWORD\"],\n",
    "    \"role\":      \"ACCOUNTADMIN\",  \n",
    "    \"warehouse\": \"COMPUTE_WH\",        \n",
    "}\n",
    "\n",
    "session = Session.builder.configs(connection_parameters).create()\n",
    "session.sql(\"SELECT CURRENT_VERSION() AS VERSION\").show()"
   ]
  },
  {
   "cell_type": "code",
   "execution_count": null,
   "id": "e84007b4",
   "metadata": {},
   "outputs": [
    {
     "data": {
      "text/plain": [
       "[Row(status='Role DBT_ROLE successfully created.')]"
      ]
     },
     "execution_count": 247,
     "metadata": {},
     "output_type": "execute_result"
    }
   ],
   "source": [
    "\n",
    "session.sql(\"USE ROLE ACCOUNTADMIN\").collect()\n",
    "session.sql(\"DROP ROLE IF EXISTS DBT_ROLE\").collect()\n",
    "session.sql(\"CREATE ROLE IF NOT EXISTS DBT_ROLE\").collect()"
   ]
  },
  {
   "cell_type": "code",
   "execution_count": 248,
   "id": "f1153da9",
   "metadata": {},
   "outputs": [],
   "source": [
    "\n",
    "def run_many(sql: str):\n",
    "    for stmt in [s.strip() for s in sql.split(\";\") if s.strip()]:\n",
    "        session.sql(stmt).collect()"
   ]
  },
  {
   "cell_type": "code",
   "execution_count": 249,
   "id": "abd1b760",
   "metadata": {},
   "outputs": [
    {
     "name": "stdout",
     "output_type": "stream",
     "text": [
      "Bootstrap complete.\n"
     ]
    }
   ],
   "source": [
    "\n",
    "run_many('''\n",
    "CREATE OR REPLACE WAREHOUSE DBT_WH WAREHOUSE_SIZE = \"XSMALL\";\n",
    "\n",
    "CREATE  OR REPLACE DATABASE  DBT_DB;\n",
    "CREATE OR REPLACE SCHEMA    DBT_DB.DBT_SCHEMA;\n",
    "      \n",
    "\n",
    "CREATE OR REPLACE DATABASE  DBT_TARGET_DB;\n",
    "CREATE OR REPLACE SCHEMA   DBT_TARGET_DB.DBT_TARGET_SCHEMA;\n",
    "         \n",
    "GRANT ALL PRIVILEGES          ON WAREHOUSE DBT_WH            TO ROLE DBT_ROLE;  \n",
    "\n",
    "\n",
    "         \n",
    "\n",
    "''')\n",
    "print(\"Bootstrap complete.\")"
   ]
  },
  {
   "cell_type": "code",
   "execution_count": 250,
   "id": "8d50c8a9",
   "metadata": {},
   "outputs": [],
   "source": [
    "run_many('''\n",
    "GRANT ALL PRIVILEGES ON DATABASE  DBT_DB            TO ROLE DBT_ROLE;\n",
    "         \n",
    "GRANT ALL PRIVILEGES ON DATABASE  DBT_TARGET_DB TO ROLE DBT_ROLE;\n",
    "GRANT ALL PRIVILEGES ON SCHEMA DBT_DB.DBT_SCHEMA TO ROLE DBT_ROLE;\n",
    "         \n",
    "GRANT ALL PRIVILEGES ON SCHEMA  DBT_TARGET_DB.DBT_TARGET_SCHEMA TO ROLE DBT_ROLE;\n",
    "         \n",
    "\n",
    "GRANT ALL PRIVILEGES   ON ALL TABLES IN SCHEMA DBT_TARGET_DB.DBT_TARGET_SCHEMA   TO ROLE DBT_ROLE;\n",
    "GRANT ALL PRIVILEGES   ON FUTURE TABLES IN SCHEMA DBT_TARGET_DB.DBT_TARGET_SCHEMA   TO ROLE DBT_ROLE;\n",
    "         \n",
    "GRANT ALL PRIVILEGES  ON ALL TABLES IN SCHEMA DBT_DB.DBT_SCHEMA  TO ROLE DBT_ROLE;\n",
    "GRANT ALL PRIVILEGES   ON FUTURE TABLES IN SCHEMA DBT_DB.DBT_SCHEMA   TO ROLE DBT_ROLE;\n",
    "         \n",
    "         ''')"
   ]
  },
  {
   "cell_type": "code",
   "execution_count": 251,
   "id": "13385090",
   "metadata": {},
   "outputs": [],
   "source": [
    "# run_many('''\n",
    "# GRANT OWNERSHIP \n",
    "#   ON DATABASE DBT_DB \n",
    "#   TO ROLE DBT_ROLE \n",
    "#   REVOKE CURRENT GRANTS;\n",
    "\n",
    "# GRANT OWNERSHIP \n",
    "#   ON DATABASE DBT_TARGET_DB \n",
    "#   TO ROLE DBT_ROLE \n",
    "#   REVOKE CURRENT GRANTS;\n",
    "\n",
    "# GRANT OWNERSHIP \n",
    "#   ON SCHEMA DBT_DB.DBT_SCHEMA \n",
    "#   TO ROLE DBT_ROLE \n",
    "#   REVOKE CURRENT GRANTS;\n",
    "\n",
    "# GRANT OWNERSHIP \n",
    "#   ON SCHEMA DBT_TARGET_DB.DBT_TARGET_SCHEMA \n",
    "#   TO ROLE DBT_ROLE \n",
    "#   REVOKE CURRENT GRANTS;\n",
    "\n",
    "\n",
    "# ''')\n",
    "# print(\"Bootstrap complete.\")"
   ]
  },
  {
   "cell_type": "code",
   "execution_count": 252,
   "id": "edcd8630",
   "metadata": {},
   "outputs": [],
   "source": [
    "# run_many('''\n",
    "# GRANT OWNERSHIP ON ALL TABLES IN SCHEMA DBT_DB.DBT_SCHEMA        TO ROLE DBT_ROLE;\n",
    "# GRANT OWNERSHIP ON ALL TABLES IN SCHEMA DBT_TARGET_DB.DBT_TARGET_SCHEMA TO ROLE DBT_ROLE;\n",
    "# GRANT OWNERSHIP ON FUTURE TABLES IN SCHEMA DBT_DB.DBT_SCHEMA        TO ROLE DBT_ROLE;\n",
    "# GRANT OWNERSHIP ON FUTURE TABLES IN SCHEMA DBT_TARGET_DB.DBT_TARGET_SCHEMA TO ROLE DBT_ROLE;\n",
    "\n",
    "\n",
    "\n",
    "\n",
    "# ''')\n",
    "# print(\"Bootstrap complete.\")"
   ]
  },
  {
   "cell_type": "code",
   "execution_count": 253,
   "id": "82bb18e3",
   "metadata": {},
   "outputs": [
    {
     "data": {
      "text/plain": [
       "[Row(status='DBT_USER already exists, statement succeeded.')]"
      ]
     },
     "execution_count": 253,
     "metadata": {},
     "output_type": "execute_result"
    }
   ],
   "source": [
    "\n",
    "session.sql('''CREATE USER IF NOT EXISTS DBT_USER\n",
    "  PASSWORD            = 'StrongPassword12345' \n",
    "  DEFAULT_ROLE        = DBT_ROLE\n",
    "  DEFAULT_WAREHOUSE   = DBT_WH\n",
    "  MUST_CHANGE_PASSWORD = FALSE;''').collect()"
   ]
  },
  {
   "cell_type": "code",
   "execution_count": 254,
   "id": "06e786e0",
   "metadata": {},
   "outputs": [
    {
     "data": {
      "text/plain": [
       "[Row(status='Statement executed successfully.')]"
      ]
     },
     "execution_count": 254,
     "metadata": {},
     "output_type": "execute_result"
    }
   ],
   "source": [
    "\n",
    "session.sql(\"USE ROLE ACCOUNTADMIN\").collect()\n",
    "session.sql(\"GRANT ROLE DBT_ROLE TO USER DBT_USER\").collect()\n",
    "session.sql(\"ALTER USER DBT_USER SET DEFAULT_ROLE = DBT_ROLE\").collect()\n"
   ]
  },
  {
   "cell_type": "code",
   "execution_count": 255,
   "id": "eb43a381",
   "metadata": {},
   "outputs": [
    {
     "name": "stdout",
     "output_type": "stream",
     "text": [
      "[Row(name='DBT_USER', created_on=datetime.datetime(2025, 5, 16, 12, 37, 50, 266000, tzinfo=<DstTzInfo 'America/Los_Angeles' PDT-1 day, 17:00:00 DST>), login_name='DBT_USER', display_name='DBT_USER', first_name=None, last_name=None, email=None, mins_to_unlock=None, days_to_expiry=None, comment=None, disabled='false', must_change_password='false', snowflake_lock='false', default_warehouse='DBT_WH', default_namespace=None, default_role='DBT_ROLE', default_secondary_roles='[\"ALL\"]', ext_authn_duo='false', ext_authn_uid=None, mins_to_bypass_mfa=None, owner='ACCOUNTADMIN', last_success_login=datetime.datetime(2025, 5, 18, 3, 5, 10, 716000, tzinfo=<DstTzInfo 'America/Los_Angeles' PDT-1 day, 17:00:00 DST>), expires_at_time=None, locked_until_time=None, has_password='true', has_rsa_public_key='false', type=None, has_mfa='false'), Row(name='HUSEYN', created_on=datetime.datetime(2025, 5, 14, 12, 14, 54, 905000, tzinfo=<DstTzInfo 'America/Los_Angeles' PDT-1 day, 17:00:00 DST>), login_name='HUSEYN', display_name='HUSEYN', first_name='Huseyn', last_name='Abdullayev', email='abdulla.huseyn@yahoo.com', mins_to_unlock=None, days_to_expiry=None, comment=None, disabled='false', must_change_password='false', snowflake_lock='false', default_warehouse='COMPUTE_WH', default_namespace=None, default_role='ACCOUNTADMIN', default_secondary_roles='[]', ext_authn_duo='false', ext_authn_uid=None, mins_to_bypass_mfa=None, owner='ACCOUNTADMIN', last_success_login=datetime.datetime(2025, 5, 18, 3, 33, 18, 415000, tzinfo=<DstTzInfo 'America/Los_Angeles' PDT-1 day, 17:00:00 DST>), expires_at_time=None, locked_until_time=None, has_password='true', has_rsa_public_key='false', type=None, has_mfa='false'), Row(name='SNOWFLAKE', created_on=datetime.datetime(2025, 5, 14, 12, 14, 54, 921000, tzinfo=<DstTzInfo 'America/Los_Angeles' PDT-1 day, 17:00:00 DST>), login_name='SNOWFLAKE', display_name='SNOWFLAKE', first_name=None, last_name=None, email=None, mins_to_unlock=None, days_to_expiry='-2.637789351851852', comment=None, disabled='false', must_change_password='false', snowflake_lock='false', default_warehouse=None, default_namespace=None, default_role=None, default_secondary_roles='[\"ALL\"]', ext_authn_duo='false', ext_authn_uid=None, mins_to_bypass_mfa=None, owner='', last_success_login=datetime.datetime(2025, 5, 14, 12, 14, 59, 333000, tzinfo=<DstTzInfo 'America/Los_Angeles' PDT-1 day, 17:00:00 DST>), expires_at_time=datetime.datetime(2025, 5, 15, 12, 14, 58, 106000, tzinfo=<DstTzInfo 'America/Los_Angeles' PDT-1 day, 17:00:00 DST>), locked_until_time=None, has_password='true', has_rsa_public_key='false', type=None, has_mfa='false')]\n"
     ]
    }
   ],
   "source": [
    "\n",
    "users = session.sql(\"SHOW USERS\").collect()\n",
    "print(users)\n"
   ]
  },
  {
   "cell_type": "code",
   "execution_count": 256,
   "id": "6607c25a",
   "metadata": {},
   "outputs": [
    {
     "data": {
      "text/plain": [
       "[Row(status='Stage area NETFLIX_RAW_STAGE successfully created.')]"
      ]
     },
     "execution_count": 256,
     "metadata": {},
     "output_type": "execute_result"
    }
   ],
   "source": [
    "session.sql(\"CREATE OR REPLACE STAGE DBT_DB.DBT_SCHEMA.NETFLIX_RAW_STAGE\").collect()\n"
   ]
  },
  {
   "cell_type": "code",
   "execution_count": 257,
   "id": "e4d81729",
   "metadata": {},
   "outputs": [
    {
     "data": {
      "text/plain": [
       "3399671"
      ]
     },
     "execution_count": 257,
     "metadata": {},
     "output_type": "execute_result"
    }
   ],
   "source": [
    "\n",
    "csv_url   = \"https://raw.githubusercontent.com/HuseynA28/DataFlow-Snowflake-Airflow-dbt-Docker-CICD-/refs/heads/main/data/netflix_titles.csv\"\n",
    "local_csv = pathlib.Path(\"netflix_titles.csv\")\n",
    "local_csv.write_bytes(requests.get(csv_url, timeout=30).content)\n"
   ]
  },
  {
   "cell_type": "code",
   "execution_count": 258,
   "id": "ed58e67b",
   "metadata": {},
   "outputs": [
    {
     "name": "stdout",
     "output_type": "stream",
     "text": [
      "File uploaded to stage.\n"
     ]
    }
   ],
   "source": [
    "\n",
    "session.file.put(\n",
    "    str(local_csv),                               \n",
    "    \"@DBT_DB.DBT_SCHEMA.NETFLIX_RAW_STAGE\",       \n",
    "    overwrite=True,\n",
    ")\n",
    "\n",
    "print(\"File uploaded to stage.\")"
   ]
  },
  {
   "cell_type": "code",
   "execution_count": 259,
   "id": "a7277ff0",
   "metadata": {},
   "outputs": [
    {
     "data": {
      "text/plain": [
       "<snowflake.snowpark.dataframe.DataFrame at 0x1de65aa1a50>"
      ]
     },
     "execution_count": 259,
     "metadata": {},
     "output_type": "execute_result"
    }
   ],
   "source": [
    "session.sql('''USE ROLE DBT_ROLE''')"
   ]
  },
  {
   "cell_type": "code",
   "execution_count": 260,
   "id": "6ac518c0",
   "metadata": {},
   "outputs": [
    {
     "data": {
      "text/plain": [
       "[Row(status='File format CSV_NETFLIX_RAW successfully created.')]"
      ]
     },
     "execution_count": 260,
     "metadata": {},
     "output_type": "execute_result"
    }
   ],
   "source": [
    "session.sql(\n",
    "  '''CREATE OR REPLACE FILE FORMAT DBT_DB.DBT_SCHEMA.CSV_NETFLIX_RAW\n",
    "  TYPE                       = 'CSV'\n",
    "  COMPRESSION                = 'AUTO'               \n",
    "  FIELD_DELIMITER            = ','                  \n",
    "  FIELD_OPTIONALLY_ENCLOSED_BY = '\"'              \n",
    "  PARSE_HEADER = TRUE; ''').collect()\n"
   ]
  },
  {
   "cell_type": "code",
   "execution_count": 261,
   "id": "60cabfef",
   "metadata": {},
   "outputs": [
    {
     "data": {
      "text/plain": [
       "[Row(status='Statement executed successfully.')]"
      ]
     },
     "execution_count": 261,
     "metadata": {},
     "output_type": "execute_result"
    }
   ],
   "source": [
    "session.sql('''USE database  DBT_DB ''').collect()\n",
    "session.sql('''USE schema  DBT_SCHEMA ''').collect()\n"
   ]
  },
  {
   "cell_type": "code",
   "execution_count": 262,
   "id": "f54260df",
   "metadata": {},
   "outputs": [],
   "source": [
    "session.use_warehouse(\"DBT_WH\")"
   ]
  },
  {
   "cell_type": "code",
   "execution_count": 263,
   "id": "52b08bab",
   "metadata": {},
   "outputs": [
    {
     "name": "stdout",
     "output_type": "stream",
     "text": [
      "[Row(CURRENT_WAREHOUSE()='DBT_WH')]\n"
     ]
    }
   ],
   "source": [
    "print(session.sql(\"SELECT CURRENT_WAREHOUSE()\").collect())"
   ]
  },
  {
   "cell_type": "code",
   "execution_count": 264,
   "id": "35738918",
   "metadata": {},
   "outputs": [
    {
     "data": {
      "text/plain": [
       "[Row(status='Table NETFLIX_DATA successfully created.')]"
      ]
     },
     "execution_count": 264,
     "metadata": {},
     "output_type": "execute_result"
    }
   ],
   "source": [
    "session.sql(''' \n",
    "       \n",
    "CREATE OR REPLACE TABLE  NETFLIX_DATA\n",
    "  USING TEMPLATE (\n",
    "    SELECT ARRAY_AGG(OBJECT_CONSTRUCT(*))\n",
    "      FROM TABLE(\n",
    "        INFER_SCHEMA(\n",
    "          LOCATION=>'@DBT_DB.DBT_SCHEMA.NETFLIX_RAW_STAGE',\n",
    "          FILE_FORMAT=>'CSV_NETFLIX_RAW'\n",
    "        )\n",
    "      ))''').collect()\n",
    "\n",
    "\n"
   ]
  },
  {
   "cell_type": "code",
   "execution_count": 265,
   "id": "4babb817",
   "metadata": {},
   "outputs": [
    {
     "data": {
      "text/plain": [
       "[Row(status='File format CSV_FF successfully created.')]"
      ]
     },
     "execution_count": 265,
     "metadata": {},
     "output_type": "execute_result"
    }
   ],
   "source": [
    "session.sql(''' \n",
    "\n",
    "\n",
    "CREATE OR REPLACE FILE FORMAT DBT_DB.DBT_SCHEMA.csv_ff\n",
    "  TYPE  = CSV\n",
    "  FIELD_DELIMITER = ','\n",
    "  FIELD_OPTIONALLY_ENCLOSED_BY = '\"'\n",
    "  SKIP_HEADER = 1; \n",
    "\n",
    "\n",
    "   ''' ).collect()"
   ]
  },
  {
   "cell_type": "code",
   "execution_count": 266,
   "id": "96f29ac2",
   "metadata": {},
   "outputs": [
    {
     "data": {
      "text/plain": [
       "[Row(file='netflix_raw_stage/netflix_titles.csv.gz', status='LOADED', rows_parsed=8807, rows_loaded=8807, error_limit=1, errors_seen=0, first_error=None, first_error_line=None, first_error_character=None, first_error_column_name=None)]"
      ]
     },
     "execution_count": 266,
     "metadata": {},
     "output_type": "execute_result"
    }
   ],
   "source": [
    "session.sql(\n",
    "    ''' \n",
    "  COPY INTO NETFLIX_DATA FROM @DBT_DB.DBT_SCHEMA.NETFLIX_RAW_STAGE\n",
    "  FILE_FORMAT = (\n",
    "    FORMAT_NAME= 'csv_ff'\n",
    "  )         \n",
    "  ''').collect()"
   ]
  }
 ],
 "metadata": {
  "kernelspec": {
   "display_name": ".venv",
   "language": "python",
   "name": "python3"
  },
  "language_info": {
   "codemirror_mode": {
    "name": "ipython",
    "version": 3
   },
   "file_extension": ".py",
   "mimetype": "text/x-python",
   "name": "python",
   "nbconvert_exporter": "python",
   "pygments_lexer": "ipython3",
   "version": "3.11.2"
  }
 },
 "nbformat": 4,
 "nbformat_minor": 5
}
