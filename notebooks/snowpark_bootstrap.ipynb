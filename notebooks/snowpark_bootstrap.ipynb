{
 "cells": [
  {
   "cell_type": "markdown",
   "id": "fb90dbaa",
   "metadata": {},
   "source": [
    "## Snowflake Data Load Notebook\n",
    "This notebook creates the required Snowflake objects, stages a CSV from GitHub, and loads it into a table – all using **Snowpark for Python**.\n",
    "**Prerequisites**\n",
    "1. The `snowflake-snowpark-python` and `requests` packages are installed (see the next code cell).\n",
    "2. Environment variables with your connection info are set in the kernel/session:\n",
    "   * `SNOWFLAKE_ACCOUNT` –  Go to Account Details in snowflake . It should  look like bewlo \n",
    "   * `SNOWFLAKE_USER` \n",
    "   * `SNOWFLAKE_PASSWORD`\n",
    "\n",
    "[connections.my_example_connection]\n",
    "- account = \"XXXX-XXXXX\"\n",
    "- user = \"HUSEYN\"\n",
    "- role = \"ACCOUNTADMIN\"\n"
   ]
  },
  {
   "cell_type": "code",
   "execution_count": 13,
   "id": "b25218c8",
   "metadata": {},
   "outputs": [],
   "source": [
    "import pathlib\n",
    "import os, pathlib, requests\n",
    "from snowflake.snowpark import Session\n"
   ]
  },
  {
   "cell_type": "code",
   "execution_count": 2,
   "id": "7a5a2b66",
   "metadata": {},
   "outputs": [
    {
     "name": "stdout",
     "output_type": "stream",
     "text": [
      "Working dir: c:\\Users\\ping\\Documents\\Bootcamps\\Data-Analytics-Engineer-Bootcamp\\dataflow\\notebooks\n",
      "Files here: ['1_load_data.ipynb', 'snowpark_bootstrap.ipynb']\n"
     ]
    }
   ],
   "source": [
    "\n",
    "print(\"Working dir:\", os.getcwd())\n",
    "print(\"Files here:\", os.listdir())\n"
   ]
  },
  {
   "cell_type": "code",
   "execution_count": 3,
   "id": "7c3901be",
   "metadata": {},
   "outputs": [
    {
     "name": "stdout",
     "output_type": "stream",
     "text": [
      "-------------\n",
      "|\"VERSION\"  |\n",
      "-------------\n",
      "|9.12.1     |\n",
      "-------------\n",
      "\n"
     ]
    }
   ],
   "source": [
    "\n",
    "from dotenv import load_dotenv\n",
    "load_dotenv()\n",
    "\n",
    "connection_parameters = {\n",
    "    \"account\":   os.environ[\"SNOWFLAKE_ACCOUNT\"],\n",
    "    \"user\":      os.environ[\"SNOWFLAKE_USER\"],\n",
    "    \"password\":  os.environ[\"SNOWFLAKE_PASSWORD\"],\n",
    "    \"role\":      \"ACCOUNTADMIN\",  \n",
    "    \"warehouse\": \"COMPUTE_WH\",        \n",
    "}\n",
    "\n",
    "session = Session.builder.configs(connection_parameters).create()\n",
    "session.sql(\"SELECT CURRENT_VERSION() AS VERSION\").show()"
   ]
  },
  {
   "cell_type": "code",
   "execution_count": 4,
   "id": "f1153da9",
   "metadata": {},
   "outputs": [],
   "source": [
    "# ---- Helper to run multiple SQL statements safely ----\n",
    "def run_many(sql: str):\n",
    "    for stmt in [s.strip() for s in sql.split(\";\") if s.strip()]:\n",
    "        session.sql(stmt).collect()"
   ]
  },
  {
   "cell_type": "code",
   "execution_count": null,
   "id": "abd1b760",
   "metadata": {},
   "outputs": [
    {
     "name": "stdout",
     "output_type": "stream",
     "text": [
      "✅ Bootstrap complete.\n"
     ]
    }
   ],
   "source": [
    "# ---- Warehouse / Database / Schema / Role / User ----\n",
    "run_many('''\n",
    "CREATE OR REPLACE WAREHOUSE DBT_WH WAREHOUSE_SIZE = \"XSMALL\";\n",
    "\n",
    "CREATE DATABASE IF NOT EXISTS DBT_DB;\n",
    "CREATE SCHEMA   IF NOT EXISTS DBT_DB.DBT_SCHEMA;\n",
    "\n",
    "CREATE ROLE     IF NOT EXISTS DBT_ROLE;\n",
    "\n",
    "GRANT USAGE          ON WAREHOUSE DBT_WH            TO ROLE DBT_ROLE;\n",
    "GRANT ALL PRIVILEGES ON DATABASE  DBT_DB            TO ROLE DBT_ROLE;\n",
    "GRANT ALL PRIVILEGES ON SCHEMA    DBT_DB.DBT_SCHEMA TO ROLE DBT_ROLE;\n",
    "\n",
    "CREATE USER IF NOT EXISTS DBT_USER\n",
    "  PASSWORD            = 'StrongPassword12345' \n",
    "  DEFAULT_ROLE        = DBT_ROLE\n",
    "  DEFAULT_WAREHOUSE   = DBT_WH\n",
    "  MUST_CHANGE_PASSWORD = FALSE;\n",
    "\n",
    "GRANT ROLE DBT_ROLE TO USER DBT_USER;\n",
    "''')\n",
    "print(\"Bootstrap complete.\")"
   ]
  },
  {
   "cell_type": "code",
   "execution_count": 6,
   "id": "33313552",
   "metadata": {},
   "outputs": [],
   "source": [
    "\n",
    "run_many(\"CREATE OR REPLACE STAGE DBT_DB.DBT_SCHEMA.NETFLIX_RAW_STAGE;\")"
   ]
  },
  {
   "cell_type": "code",
   "execution_count": null,
   "id": "e4d81729",
   "metadata": {},
   "outputs": [
    {
     "data": {
      "text/plain": [
       "3399671"
      ]
     },
     "execution_count": 11,
     "metadata": {},
     "output_type": "execute_result"
    }
   ],
   "source": [
    "\n",
    "csv_url   = \"https://raw.githubusercontent.com/HuseynA28/DataFlow-Snowflake-Airflow-dbt-Docker-CICD-/refs/heads/main/data/netflix_titles.csv\"\n",
    "local_csv = pathlib.Path(\"netflix_titles.csv\")\n",
    "local_csv.write_bytes(requests.get(csv_url, timeout=30).content)\n"
   ]
  },
  {
   "cell_type": "code",
   "execution_count": null,
   "id": "ed58e67b",
   "metadata": {},
   "outputs": [
    {
     "name": "stdout",
     "output_type": "stream",
     "text": [
      "✅ File uploaded to stage.\n"
     ]
    }
   ],
   "source": [
    "\n",
    "session.file.put(\n",
    "    str(local_csv),                               \n",
    "    \"@DBT_DB.DBT_SCHEMA.NETFLIX_RAW_STAGE\",       \n",
    "    overwrite=True,\n",
    ")\n",
    "\n",
    "print(\"File uploaded to stage.\")"
   ]
  }
 ],
 "metadata": {
  "kernelspec": {
   "display_name": ".venv",
   "language": "python",
   "name": "python3"
  },
  "language_info": {
   "codemirror_mode": {
    "name": "ipython",
    "version": 3
   },
   "file_extension": ".py",
   "mimetype": "text/x-python",
   "name": "python",
   "nbconvert_exporter": "python",
   "pygments_lexer": "ipython3",
   "version": "3.11.2"
  }
 },
 "nbformat": 4,
 "nbformat_minor": 5
}
